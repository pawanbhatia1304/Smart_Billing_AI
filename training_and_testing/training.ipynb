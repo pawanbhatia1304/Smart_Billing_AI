{
 "cells": [
  {
   "cell_type": "markdown",
   "id": "fedfd470-2f1b-4569-ae0c-6b46b931d48e",
   "metadata": {},
   "source": [
    "## Training"
   ]
  },
  {
   "cell_type": "code",
   "execution_count": null,
   "id": "1908f825-9c86-440e-857d-964717fd7544",
   "metadata": {},
   "outputs": [],
   "source": [
    "from ultralytics import YOLO\n",
    "model = YOLO(\"yolov8n.pt\")\n",
    "model.train(\n",
    "    data=\"dataset/prepared_dataset/data.yaml\", \n",
    "    epochs=400, \n",
    "    imgsz=640,\n",
    "    batch=16, \n",
    "    lr0=0.01,\n",
    "    momentum=0.937\n",
    ")\n",
    "\n",
    "metrics = model.val()\n",
    "print(metrics)"
   ]
  },
  {
   "cell_type": "markdown",
   "id": "20efe84b-0f4a-41d4-bd46-edc59ee0b759",
   "metadata": {},
   "source": [
    "## Test"
   ]
  },
  {
   "cell_type": "code",
   "execution_count": 1,
   "id": "e69dcd46-bdb0-4b8a-8c30-258bdbb40114",
   "metadata": {},
   "outputs": [
    {
     "name": "stdout",
     "output_type": "stream",
     "text": [
      "\n",
      "0: 640x480 1 lays-large, 1 lays-small, 1 milo-180ml, 1 slice-200ml, 64.0ms\n",
      "Speed: 20.0ms preprocess, 64.0ms inference, 252.2ms postprocess per image at shape (1, 3, 640, 480)\n"
     ]
    }
   ],
   "source": [
    "from ultralytics import YOLO\n",
    "model = YOLO(\"model.pt\")\n",
    "results = model([\"test.jpeg\"], conf=0.5)\n",
    "results[0].show()"
   ]
  },
  {
   "cell_type": "code",
   "execution_count": null,
   "id": "d8bc7db7-7b46-429a-a2b5-9f1116e4d377",
   "metadata": {},
   "outputs": [],
   "source": [
    "import cv2\n",
    "from ultralytics import YOLO\n",
    "\n",
    "model = YOLO(\"model.pt\")\n",
    "cap = cv2.VideoCapture(0)\n",
    "\n",
    "while cap.isOpened():\n",
    "    success, frame = cap.read()\n",
    "\n",
    "    if success:\n",
    "        results = model.track(frame, persist=True, conf=0.85)\n",
    "        annotated_frame = results[0].plot()\n",
    "        cv2.imshow(\"YOLOv8 Tracking\", annotated_frame)\n",
    "        if cv2.waitKey(1) & 0xFF == ord(\"q\"):\n",
    "            break\n",
    "    else:\n",
    "        break\n",
    "\n",
    "cap.release()\n",
    "cv2.destroyAllWindows()"
   ]
  },
  {
   "cell_type": "code",
   "execution_count": null,
   "id": "5bba820f-eabe-46fa-a432-0bdc2dd7fb03",
   "metadata": {},
   "outputs": [],
   "source": [
    "import cv2\n",
    "from ultralytics import YOLO\n",
    "\n",
    "# Load the model\n",
    "model = YOLO(\"model.pt\")\n",
    "\n",
    "# Open the video capture\n",
    "cap = cv2.VideoCapture(0)\n",
    "\n",
    "# Define product price mapping\n",
    "product_prices = {\n",
    "    \"lays-large\": 100,  # Price in Rs\n",
    "    \"lays-small\": 50,   # Price in Rs\n",
    "    \"milo-180ml\": 80,   # Price in Rs\n",
    "    \"slice-200ml\": 60   # Price in Rs\n",
    "}\n",
    "\n",
    "# Initialize the counter and a set to track processed object IDs\n",
    "total_price = 0\n",
    "processed_object_ids = set()\n",
    "\n",
    "# Define the line coordinates (you can adjust these as needed)\n",
    "line_x = 320  # X-coordinate of the line\n",
    "\n",
    "def reset_counter():\n",
    "    global total_price, processed_object_ids\n",
    "    total_price = 0\n",
    "    processed_object_ids.clear()\n",
    "\n",
    "def is_box_intersecting_line(box, line_x):\n",
    "    x1, y1, x2, y2 = box.xyxy[0]\n",
    "    return x1 <= line_x <= x2 or x2 <= line_x <= x1\n",
    "\n",
    "while cap.isOpened():\n",
    "    success, frame = cap.read()\n",
    "\n",
    "    if success:\n",
    "        # Perform object detection and tracking\n",
    "        results = model.track(frame, persist=True, conf=0.85)\n",
    "        annotated_frame = results[0].plot()\n",
    "\n",
    "        # Draw the line on the frame\n",
    "        cv2.line(annotated_frame, (line_x, 0), (line_x, frame.shape[0]), (0, 255, 0), 2)\n",
    "\n",
    "        # Extract detected objects and update the counter\n",
    "        if results[0].boxes is not None:\n",
    "            for box in results[0].boxes:\n",
    "                class_id = results[0].names[box.cls.item()]\n",
    "                object_id = box.id.item() if box.id is not None else None\n",
    "\n",
    "                if class_id in product_prices and object_id not in processed_object_ids:\n",
    "                    if is_box_intersecting_line(box, line_x):\n",
    "                        total_price += product_prices[class_id]\n",
    "                        processed_object_ids.add(object_id)\n",
    "\n",
    "        # Display the total price on the frame\n",
    "        cv2.putText(annotated_frame, f\"Total Price: Rs {total_price}\", (10, 30), cv2.FONT_HERSHEY_SIMPLEX, 1, (0, 255, 0), 2)\n",
    "\n",
    "        # Display the annotated frame\n",
    "        cv2.imshow(\"YOLOv8 Tracking\", annotated_frame)\n",
    "\n",
    "        # Check for key presses\n",
    "        key = cv2.waitKey(1) & 0xFF\n",
    "        if key == ord(\"q\"):\n",
    "            break\n",
    "        elif key == ord(\"r\"):\n",
    "            reset_counter()\n",
    "    else:\n",
    "        break\n",
    "\n",
    "# Release the video capture and close all OpenCV windows\n",
    "cap.release()\n",
    "cv2.destroyAllWindows()"
   ]
  },
  {
   "cell_type": "code",
   "execution_count": null,
   "id": "65d1ee0b-63ba-4e4f-987e-e52108421866",
   "metadata": {},
   "outputs": [],
   "source": []
  }
 ],
 "metadata": {
  "kernelspec": {
   "display_name": "Python 3 (ipykernel)",
   "language": "python",
   "name": "python3"
  },
  "language_info": {
   "codemirror_mode": {
    "name": "ipython",
    "version": 3
   },
   "file_extension": ".py",
   "mimetype": "text/x-python",
   "name": "python",
   "nbconvert_exporter": "python",
   "pygments_lexer": "ipython3",
   "version": "3.11.7"
  }
 },
 "nbformat": 4,
 "nbformat_minor": 5
}
