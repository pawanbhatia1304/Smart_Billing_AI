{
 "cells": [
  {
   "cell_type": "markdown",
   "id": "096b289c-8d8e-42ed-80f0-e09821d75e1c",
   "metadata": {},
   "source": [
    "## Dataset Preparation"
   ]
  },
  {
   "cell_type": "code",
   "execution_count": null,
   "id": "e4520d68-140e-4ac0-8372-ae6b3e5cdb5f",
   "metadata": {},
   "outputs": [],
   "source": [
    "!pip install roboflow\n",
    "\n",
    "from roboflow import Roboflow\n",
    "rf = Roboflow(api_key=\"U0RpVkRKwFrFYW5RlBkn\")\n",
    "project = rf.workspace(\"owais-ahmed-xq0js\").project(\"sample-augmented-dataset\")\n",
    "version = project.version(1)\n",
    "dataset = version.download(\"yolov8\")\n",
    "                "
   ]
  },
  {
   "cell_type": "code",
   "execution_count": null,
   "id": "67f96687-cfc4-4b9a-b182-be71f01d4948",
   "metadata": {},
   "outputs": [],
   "source": [
    "!pip install albumentations opencv-python"
   ]
  },
  {
   "cell_type": "code",
   "execution_count": 6,
   "id": "628bbecf-2667-4e6c-8b4d-d820cef9677b",
   "metadata": {},
   "outputs": [
    {
     "name": "stderr",
     "output_type": "stream",
     "text": [
      "100%|██████████████████████████████████████████████████████████████████████████████████| 29/29 [00:00<00:00, 56.75it/s]\n",
      "100%|██████████████████████████████████████████████████████████████████████████████████| 29/29 [00:00<00:00, 99.63it/s]\n",
      "100%|██████████████████████████████████████████████████████████████████████████████████| 29/29 [00:00<00:00, 98.54it/s]\n",
      "100%|██████████████████████████████████████████████████████████████████████████████████| 29/29 [00:00<00:00, 99.08it/s]\n",
      "100%|██████████████████████████████████████████████████████████████████████████████████| 29/29 [00:00<00:00, 63.66it/s]\n",
      "100%|██████████████████████████████████████████████████████████████████████████████████| 29/29 [00:00<00:00, 98.20it/s]\n",
      "100%|█████████████████████████████████████████████████████████████████████████████████| 29/29 [00:00<00:00, 101.57it/s]\n",
      "100%|██████████████████████████████████████████████████████████████████████████████████| 29/29 [00:00<00:00, 97.73it/s]\n",
      "100%|██████████████████████████████████████████████████████████████████████████████████| 29/29 [00:00<00:00, 92.40it/s]\n",
      "100%|██████████████████████████████████████████████████████████████████████████████████| 29/29 [00:00<00:00, 83.15it/s]\n",
      "100%|██████████████████████████████████████████████████████████████████████████████████| 29/29 [00:00<00:00, 94.91it/s]\n",
      "100%|██████████████████████████████████████████████████████████████████████████████████| 29/29 [00:00<00:00, 97.07it/s]\n",
      "100%|██████████████████████████████████████████████████████████████████████████████████| 29/29 [00:00<00:00, 99.06it/s]\n",
      "100%|█████████████████████████████████████████████████████████████████████████████████| 29/29 [00:00<00:00, 102.34it/s]\n",
      "100%|█████████████████████████████████████████████████████████████████████████████████| 29/29 [00:00<00:00, 101.13it/s]\n",
      "100%|██████████████████████████████████████████████████████████████████████████████████| 29/29 [00:00<00:00, 99.83it/s]\n",
      "100%|█████████████████████████████████████████████████████████████████████████████████| 29/29 [00:00<00:00, 101.12it/s]\n",
      "100%|██████████████████████████████████████████████████████████████████████████████████| 29/29 [00:00<00:00, 99.88it/s]\n",
      "100%|█████████████████████████████████████████████████████████████████████████████████| 29/29 [00:00<00:00, 102.20it/s]\n",
      "100%|██████████████████████████████████████████████████████████████████████████████████| 29/29 [00:00<00:00, 91.12it/s]\n",
      "100%|██████████████████████████████████████████████████████████████████████████████████| 29/29 [00:00<00:00, 97.42it/s]\n",
      "100%|█████████████████████████████████████████████████████████████████████████████████| 29/29 [00:00<00:00, 101.34it/s]\n",
      "100%|█████████████████████████████████████████████████████████████████████████████████| 29/29 [00:00<00:00, 100.14it/s]\n",
      "100%|█████████████████████████████████████████████████████████████████████████████████| 29/29 [00:00<00:00, 100.11it/s]\n",
      "100%|██████████████████████████████████████████████████████████████████████████████████| 29/29 [00:00<00:00, 77.19it/s]\n",
      "100%|██████████████████████████████████████████████████████████████████████████████████| 29/29 [00:00<00:00, 95.95it/s]\n",
      "100%|██████████████████████████████████████████████████████████████████████████████████| 29/29 [00:00<00:00, 99.17it/s]\n",
      "100%|██████████████████████████████████████████████████████████████████████████████████| 29/29 [00:00<00:00, 94.30it/s]\n",
      "100%|██████████████████████████████████████████████████████████████████████████████████| 29/29 [00:00<00:00, 94.48it/s]\n",
      "100%|██████████████████████████████████████████████████████████████████████████████████| 29/29 [00:00<00:00, 97.10it/s]\n",
      "100%|█████████████████████████████████████████████████████████████████████████████████| 29/29 [00:00<00:00, 100.15it/s]\n",
      "100%|█████████████████████████████████████████████████████████████████████████████████| 29/29 [00:00<00:00, 101.07it/s]\n",
      "100%|█████████████████████████████████████████████████████████████████████████████████| 29/29 [00:00<00:00, 102.87it/s]\n",
      " 45%|████████████████████████████████████▊                                             | 13/29 [00:00<00:00, 91.79it/s]"
     ]
    },
    {
     "name": "stdout",
     "output_type": "stream",
     "text": [
      "Dataset augmentation completed successfully! Total images: 1000\n"
     ]
    },
    {
     "name": "stderr",
     "output_type": "stream",
     "text": [
      "\n"
     ]
    }
   ],
   "source": [
    "import os\n",
    "import cv2\n",
    "import albumentations as A\n",
    "from tqdm import tqdm\n",
    "\n",
    "# Paths\n",
    "image_dir = r\"dataset\\semi_prepared_dataset\\train\\images\"\n",
    "label_dir = r\"dataset\\semi_prepared_dataset\\train\\labels\"\n",
    "augmented_image_dir = r\"dataset\\semi_prepared_dataset\\augmented_dataset\\images\"\n",
    "augmented_label_dir = r\"dataset\\semi_prepared_dataset\\augmented_dataset\\labels\"\n",
    "\n",
    "# Create directories if they don't exist\n",
    "os.makedirs(augmented_image_dir, exist_ok=True)\n",
    "os.makedirs(augmented_label_dir, exist_ok=True)\n",
    "\n",
    "# Define augmentation pipeline with brightness and exposure\n",
    "augmentation_pipeline = A.Compose([\n",
    "    A.RandomBrightnessContrast(brightness_limit=0.3, contrast_limit=0.3, p=1.0),\n",
    "])\n",
    "\n",
    "# Function to copy labels\n",
    "def copy_labels(src_label_path, dest_label_path):\n",
    "    with open(src_label_path, 'r') as file:\n",
    "        lines = file.readlines()\n",
    "    with open(dest_label_path, 'w') as file:\n",
    "        file.writelines(lines)\n",
    "\n",
    "# Initial image count\n",
    "image_count = len(os.listdir(image_dir))\n",
    "\n",
    "# Augment until the dataset reaches 1,000 images\n",
    "current_image_index = 1\n",
    "while image_count < 1000:\n",
    "    for img_name in tqdm(os.listdir(image_dir)):\n",
    "        if img_name.endswith('.jpg') or img_name.endswith('.png'):\n",
    "            image_path = os.path.join(image_dir, img_name)\n",
    "            label_path = os.path.join(label_dir, img_name.replace('.jpg', '.txt').replace('.png', '.txt'))\n",
    "            \n",
    "            # Load image\n",
    "            image = cv2.imread(image_path)\n",
    "            \n",
    "            # Apply augmentation\n",
    "            augmented = augmentation_pipeline(image=image)\n",
    "            \n",
    "            # Save augmented image\n",
    "            augmented_img_name = f\"aug_{current_image_index}_{img_name}\"\n",
    "            augmented_img_path = os.path.join(augmented_image_dir, augmented_img_name)\n",
    "            cv2.imwrite(augmented_img_path, augmented['image'])\n",
    "\n",
    "            # Copy label to the augmented labels directory\n",
    "            augmented_label_path = os.path.join(augmented_label_dir, augmented_img_name.replace('.jpg', '.txt').replace('.png', '.txt'))\n",
    "            copy_labels(label_path, augmented_label_path)\n",
    "            \n",
    "            # Increment the image count and index\n",
    "            image_count += 1\n",
    "            current_image_index += 1\n",
    "\n",
    "            # Break the loop if the target of 1,000 images is reached\n",
    "            if image_count >= 1000:\n",
    "                break\n",
    "\n",
    "print(\"Dataset augmentation completed successfully! Total images:\", image_count)\n"
   ]
  },
  {
   "cell_type": "code",
   "execution_count": null,
   "id": "93785523-be5e-4ccf-8ff3-77cef6c591cd",
   "metadata": {},
   "outputs": [],
   "source": []
  }
 ],
 "metadata": {
  "kernelspec": {
   "display_name": "Python 3 (ipykernel)",
   "language": "python",
   "name": "python3"
  },
  "language_info": {
   "codemirror_mode": {
    "name": "ipython",
    "version": 3
   },
   "file_extension": ".py",
   "mimetype": "text/x-python",
   "name": "python",
   "nbconvert_exporter": "python",
   "pygments_lexer": "ipython3",
   "version": "3.11.7"
  }
 },
 "nbformat": 4,
 "nbformat_minor": 5
}
